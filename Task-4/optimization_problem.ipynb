# 1️⃣ Install & import PuLP
!pip install pulp

from pulp import LpMaximize, LpProblem, LpVariable, lpSum, value

# 2️⃣ Define problem
model = LpProblem(name="factory-profit-max", sense=LpMaximize)

# 3️⃣ Decision variables
A = LpVariable(name="Product_A", lowBound=0, cat='Integer')
B = LpVariable(name="Product_B", lowBound=0, cat='Integer')

# 4️⃣ Objective function: Max profit
model += 40 * A + 30 * B, "Profit"

# 5️⃣ Constraints
model += (2 * A + 4 * B <= 100), "Labor"
model += (3 * A + 2 * B <= 90), "Material"

# 6️⃣ Solve
model.solve()

# 7️⃣ Results
print(f"Optimal Units of Product A: {A.value()}")
print(f"Optimal Units of Product B: {B.value()}")
print(f"Maximum Profit: ${value(model.objective)}")
